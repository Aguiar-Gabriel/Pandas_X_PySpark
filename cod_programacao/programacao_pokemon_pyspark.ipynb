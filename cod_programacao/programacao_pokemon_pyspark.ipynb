{
 "cells": [
  {
   "cell_type": "code",
   "execution_count": 22,
   "id": "3a7b1416",
   "metadata": {},
   "outputs": [],
   "source": [
    "#importando a biblioteca PySpark\n",
    "import pyspark"
   ]
  },
  {
   "cell_type": "code",
   "execution_count": 23,
   "id": "96d40f91",
   "metadata": {},
   "outputs": [],
   "source": [
    "from pyspark.sql import SparkSession\n",
    "\n",
    "spark = SparkSession.builder.appName('Read CSV File into DataFrame').getOrCreate()"
   ]
  },
  {
   "cell_type": "code",
   "execution_count": 54,
   "id": "53cd04e7",
   "metadata": {},
   "outputs": [],
   "source": [
    "#abrindo o arquivo csv do pokemon\n",
    "df = spark.read.csv('Pokemon_Data.csv', sep=',', inferSchema=True, header=True)\n",
    "\n",
    "#df = spark.read.format(\"csv\").load(\"Pokemon_Data.csv\")"
   ]
  },
  {
   "cell_type": "code",
   "execution_count": 274,
   "id": "3f933832",
   "metadata": {},
   "outputs": [
    {
     "name": "stdout",
     "output_type": "stream",
     "text": [
      "root\n",
      " |-- Pokemon: string (nullable = true)\n",
      " |-- Pokemon Number: integer (nullable = true)\n",
      " |-- Stat Total: integer (nullable = true)\n",
      " |-- HP: integer (nullable = true)\n",
      " |-- Attack: integer (nullable = true)\n",
      " |-- Defense: integer (nullable = true)\n",
      " |-- Sp.Atk: integer (nullable = true)\n",
      " |-- Sp.Def: integer (nullable = true)\n",
      " |-- Speed: integer (nullable = true)\n",
      " |-- Mega: boolean (nullable = true)\n",
      " |-- First Type: string (nullable = true)\n",
      " |-- Second Type: string (nullable = true)\n",
      " |-- Species: string (nullable = true)\n",
      " |-- First Ability: string (nullable = true)\n",
      " |-- Second Ability: string (nullable = true)\n",
      " |-- Hidden Ability: string (nullable = true)\n",
      " |-- Generation: string (nullable = true)\n",
      " |-- Egg Group 1: string (nullable = true)\n",
      " |-- Egg Group 2: string (nullable = true)\n",
      " |-- Is Sub Legendary: boolean (nullable = true)\n",
      " |-- Is Legendary: boolean (nullable = true)\n",
      " |-- Is Mythical: boolean (nullable = true)\n",
      "\n"
     ]
    }
   ],
   "source": [
    "#verificando os campos e os tipos de dados\n",
    "df.printSchema()"
   ]
  },
  {
   "cell_type": "code",
   "execution_count": 275,
   "id": "3e393a3f",
   "metadata": {},
   "outputs": [
    {
     "name": "stdout",
     "output_type": "stream",
     "text": [
      "+--------------------+--------------+\n",
      "|             Pokemon|Pokemon Number|\n",
      "+--------------------+--------------+\n",
      "|           Bulbasaur|             1|\n",
      "|             Ivysaur|             2|\n",
      "|            Venusaur|             3|\n",
      "|Venusaur(Mega Ven...|             3|\n",
      "|          Charmander|             4|\n",
      "|          Charmeleon|             5|\n",
      "|           Charizard|             6|\n",
      "|Charizard(Mega Ch...|             6|\n",
      "|Charizard(Mega Ch...|             6|\n",
      "|            Squirtle|             7|\n",
      "|           Wartortle|             8|\n",
      "|           Blastoise|             9|\n",
      "|Blastoise(Mega Bl...|             9|\n",
      "|            Caterpie|            10|\n",
      "|             Metapod|            11|\n",
      "|          Butterfree|            12|\n",
      "|              Weedle|            13|\n",
      "|              Kakuna|            14|\n",
      "|            Beedrill|            15|\n",
      "|Beedrill(Mega Bee...|            15|\n",
      "+--------------------+--------------+\n",
      "only showing top 20 rows\n",
      "\n"
     ]
    }
   ],
   "source": [
    "#testando a tabela\n",
    "df.select('Pokemon', 'Pokemon Number').show()"
   ]
  },
  {
   "cell_type": "code",
   "execution_count": 84,
   "id": "3798c522",
   "metadata": {},
   "outputs": [
    {
     "name": "stdout",
     "output_type": "stream",
     "text": [
      "+--------------------+--------------+\n",
      "|             Pokemon|Pokemon Number|\n",
      "+--------------------+--------------+\n",
      "|           Bulbasaur|             1|\n",
      "|             Ivysaur|             2|\n",
      "|            Venusaur|             3|\n",
      "|Venusaur(Mega Ven...|             3|\n",
      "|          Charmander|             4|\n",
      "|          Charmeleon|             5|\n",
      "|           Charizard|             6|\n",
      "|Charizard(Mega Ch...|             6|\n",
      "|Charizard(Mega Ch...|             6|\n",
      "|            Squirtle|             7|\n",
      "|           Wartortle|             8|\n",
      "|           Blastoise|             9|\n",
      "|Blastoise(Mega Bl...|             9|\n",
      "|            Caterpie|            10|\n",
      "|             Metapod|            11|\n",
      "|          Butterfree|            12|\n",
      "|              Weedle|            13|\n",
      "|              Kakuna|            14|\n",
      "|            Beedrill|            15|\n",
      "|Beedrill(Mega Bee...|            15|\n",
      "+--------------------+--------------+\n",
      "only showing top 20 rows\n",
      "\n"
     ]
    }
   ],
   "source": [
    "#separando a entidade pokemon\n",
    "pokemon = df.select('Pokemon', 'Pokemon Number')\n",
    "\n",
    "pokemon.show()"
   ]
  },
  {
   "cell_type": "code",
   "execution_count": 196,
   "id": "45a76e69",
   "metadata": {},
   "outputs": [
    {
     "name": "stdout",
     "output_type": "stream",
     "text": [
      "+--------+---+\n",
      "|    Type| ID|\n",
      "+--------+---+\n",
      "|     Bug|  0|\n",
      "|    Dark|  1|\n",
      "|  Dragon|  2|\n",
      "|Electric|  3|\n",
      "|   Fairy|  4|\n",
      "|Fighting|  5|\n",
      "|    Fire|  6|\n",
      "|  Flying|  7|\n",
      "|   Ghost|  8|\n",
      "|   Grass|  9|\n",
      "|  Ground| 10|\n",
      "|     Ice| 11|\n",
      "|  Normal| 12|\n",
      "|  Poison| 13|\n",
      "| Psychic| 14|\n",
      "|    Rock| 15|\n",
      "|   Steel| 16|\n",
      "|   Water| 17|\n",
      "+--------+---+\n",
      "\n"
     ]
    }
   ],
   "source": [
    "#separando o tipos de pokemon\n",
    "from pyspark.sql.functions import *\n",
    "type_pokemon = df.select('First Type').distinct().withColumnRenamed('First Type', 'Type').orderBy('Type')\n",
    "\n",
    "#criando uma coluna para ID dos tipos\n",
    "type_pokemon = type_pokemon.withColumn(\"ID\", monotonically_increasing_id())\n",
    "\n",
    "type_pokemon.show()"
   ]
  },
  {
   "cell_type": "code",
   "execution_count": 150,
   "id": "0e077186",
   "metadata": {},
   "outputs": [
    {
     "name": "stdout",
     "output_type": "stream",
     "text": [
      "+--------------------+---+------+-------+------+------+-----+----------+\n",
      "|             Pokemon| HP|Attack|Defense|Sp_Atk|Sp_Def|Speed|Stat Total|\n",
      "+--------------------+---+------+-------+------+------+-----+----------+\n",
      "|           Bulbasaur| 45|    49|     49|    65|    65|   45|       318|\n",
      "|             Ivysaur| 60|    62|     63|    80|    80|   60|       405|\n",
      "|            Venusaur| 80|    82|     83|   100|   100|   80|       525|\n",
      "|Venusaur(Mega Ven...| 80|   100|    123|   122|   120|   80|       625|\n",
      "|          Charmander| 39|    52|     43|    60|    50|   65|       309|\n",
      "|          Charmeleon| 58|    64|     58|    80|    65|   80|       405|\n",
      "|           Charizard| 78|    84|     78|   109|    85|  100|       534|\n",
      "|Charizard(Mega Ch...| 78|   130|    111|   130|    85|  100|       634|\n",
      "|Charizard(Mega Ch...| 78|   104|     78|   159|   115|  100|       634|\n",
      "|            Squirtle| 44|    48|     65|    50|    64|   43|       314|\n",
      "|           Wartortle| 59|    63|     80|    65|    80|   58|       405|\n",
      "|           Blastoise| 79|    83|    100|    85|   105|   78|       530|\n",
      "|Blastoise(Mega Bl...| 79|   103|    120|   135|   115|   78|       630|\n",
      "|            Caterpie| 45|    30|     35|    20|    20|   45|       195|\n",
      "|             Metapod| 50|    20|     55|    25|    25|   30|       205|\n",
      "|          Butterfree| 60|    45|     50|    90|    80|   70|       395|\n",
      "|              Weedle| 40|    35|     30|    20|    20|   50|       195|\n",
      "|              Kakuna| 45|    25|     50|    25|    25|   35|       205|\n",
      "|            Beedrill| 65|    90|     40|    45|    80|   75|       395|\n",
      "|Beedrill(Mega Bee...| 65|   150|     40|    15|    80|  145|       495|\n",
      "+--------------------+---+------+-------+------+------+-----+----------+\n",
      "only showing top 20 rows\n",
      "\n"
     ]
    }
   ],
   "source": [
    "#fazendo a tabela de stats\n",
    "sp = df.withColumnRenamed('Sp.Atk', 'Sp_Atk')\n",
    "sp = sp.withColumnRenamed('Sp.Def', 'Sp_Def')\n",
    "stats = sp.select('Pokemon', 'HP', 'Attack', 'Defense', 'Sp_Atk', 'Sp_Def', 'Speed', 'Stat Total')\n",
    "\n",
    "stats.show()"
   ]
  },
  {
   "cell_type": "code",
   "execution_count": 209,
   "id": "5b20121c",
   "metadata": {
    "scrolled": false
   },
   "outputs": [
    {
     "name": "stdout",
     "output_type": "stream",
     "text": [
      "+------------+---+\n",
      "|   Egg_Group| ID|\n",
      "+------------+---+\n",
      "|   Amorphous|  0|\n",
      "|         Bug|  1|\n",
      "|       Ditto|  2|\n",
      "|      Dragon|  3|\n",
      "|       Fairy|  4|\n",
      "|       Field|  5|\n",
      "|      Flying|  6|\n",
      "|       Grass|  7|\n",
      "|  Human-Like|  8|\n",
      "|     Mineral|  9|\n",
      "|     Monster| 10|\n",
      "|Undiscovered| 11|\n",
      "|     Water 1| 12|\n",
      "|     Water 2| 13|\n",
      "|     Water 3| 14|\n",
      "+------------+---+\n",
      "\n"
     ]
    }
   ],
   "source": [
    "#separando egg group\n",
    "egg_group = df.select('Egg Group 1').distinct().withColumnRenamed('Egg Group 1', 'Egg_Group').orderBy('Egg_Group')\n",
    "\n",
    "#criando uma coluna para ID dos eggs groups\n",
    "egg_group = egg_group.withColumn(\"ID\", monotonically_increasing_id())\n",
    "\n",
    "egg_group.show()"
   ]
  },
  {
   "cell_type": "code",
   "execution_count": 203,
   "id": "29d9a9ed",
   "metadata": {},
   "outputs": [
    {
     "name": "stdout",
     "output_type": "stream",
     "text": [
      "+-------------+---+\n",
      "|      Ability| ID|\n",
      "+-------------+---+\n",
      "| Adaptability|  0|\n",
      "|     Aerilate|  1|\n",
      "|    Aftermath|  2|\n",
      "|     Air Lock|  3|\n",
      "|     Analytic|  4|\n",
      "|  Anger Point|  5|\n",
      "|  Anger Shell|  6|\n",
      "| Anticipation|  7|\n",
      "|   Arena Trap|  8|\n",
      "|   Armor Tail|  9|\n",
      "|   Aroma Veil| 10|\n",
      "|       As One| 11|\n",
      "|   Aura Break| 12|\n",
      "|   Bad Dreams| 13|\n",
      "|   Ball Fetch| 14|\n",
      "|      Battery| 15|\n",
      "| Battle Armor| 16|\n",
      "|  Battle Bond| 17|\n",
      "|Beads of Ruin| 18|\n",
      "|  Beast Boost| 19|\n",
      "+-------------+---+\n",
      "only showing top 20 rows\n",
      "\n"
     ]
    }
   ],
   "source": [
    "#separando as habilidades\n",
    "ability1 = df.select('First Ability').distinct().withColumnRenamed('First Ability', 'Ability').orderBy('Ability')\n",
    "ability2 = df.select('Second Ability').distinct().withColumnRenamed('Second Ability', 'Ability').orderBy('Ability')\n",
    "ability3 = df.select('Hidden Ability').distinct().withColumnRenamed('Hidden Ability', 'Ability').orderBy('Ability')\n",
    "\n",
    "ability = ability1.union(ability2).distinct().orderBy('Ability')\n",
    "ability = ability.union(ability3).distinct().orderBy('Ability')\n",
    "\n",
    "#criando uma coluna para ID das habilidades\n",
    "ability = ability.withColumn(\"ID\", monotonically_increasing_id())\n",
    "\n",
    "ability.show()"
   ]
  },
  {
   "cell_type": "code",
   "execution_count": 245,
   "id": "34f55b69",
   "metadata": {},
   "outputs": [
    {
     "name": "stdout",
     "output_type": "stream",
     "text": [
      "+-------------+---+\n",
      "|     Category| ID|\n",
      "+-------------+---+\n",
      "|Sub Legendary|  0|\n",
      "|    Legendary|  1|\n",
      "|     Mythical|  2|\n",
      "+-------------+---+\n",
      "\n"
     ]
    }
   ],
   "source": [
    "#criando uma nova tabela para categorias\n",
    "category = spark.read.csv('category.csv', sep=',', inferSchema=True, header=True)\n",
    "\n",
    "#criando uma coluna para ID das habilidades\n",
    "category = category.withColumn(\"ID\", monotonically_increasing_id())\n",
    "\n",
    "category.show()"
   ]
  },
  {
   "cell_type": "code",
   "execution_count": 215,
   "id": "10df4a01",
   "metadata": {},
   "outputs": [
    {
     "name": "stdout",
     "output_type": "stream",
     "text": [
      "+--------------------+--------------+\n",
      "|             Pokemon|Egg Group 1 ID|\n",
      "+--------------------+--------------+\n",
      "|           Bulbasaur|             7|\n",
      "|             Ivysaur|             7|\n",
      "|            Venusaur|             7|\n",
      "|Venusaur(Mega Ven...|             7|\n",
      "|          Charmander|             3|\n",
      "|          Charmeleon|             3|\n",
      "|           Charizard|             3|\n",
      "|Charizard(Mega Ch...|             3|\n",
      "|Charizard(Mega Ch...|             3|\n",
      "|            Squirtle|            10|\n",
      "|           Wartortle|            10|\n",
      "|           Blastoise|            10|\n",
      "|Blastoise(Mega Bl...|            10|\n",
      "|            Caterpie|             1|\n",
      "|             Metapod|             1|\n",
      "|          Butterfree|             1|\n",
      "|              Weedle|             1|\n",
      "|              Kakuna|             1|\n",
      "|            Beedrill|             1|\n",
      "|Beedrill(Mega Bee...|             1|\n",
      "+--------------------+--------------+\n",
      "only showing top 20 rows\n",
      "\n",
      "+--------------------+--------------+\n",
      "|             Pokemon|Egg Group 2 ID|\n",
      "+--------------------+--------------+\n",
      "|           Bulbasaur|            10|\n",
      "|             Ivysaur|            10|\n",
      "|            Venusaur|            10|\n",
      "|Venusaur(Mega Ven...|            10|\n",
      "|          Charmander|            10|\n",
      "|          Charmeleon|            10|\n",
      "|           Charizard|            10|\n",
      "|Charizard(Mega Ch...|            10|\n",
      "|Charizard(Mega Ch...|            10|\n",
      "|            Squirtle|            12|\n",
      "|           Wartortle|            12|\n",
      "|           Blastoise|            12|\n",
      "|Blastoise(Mega Bl...|            12|\n",
      "|               Ekans|             5|\n",
      "|               Arbok|             5|\n",
      "|             Pikachu|             5|\n",
      "|Pikachu(Partner P...|             5|\n",
      "|              Raichu|             5|\n",
      "|Raichu(Alolan Rai...|             5|\n",
      "|            Nidoran♀|            10|\n",
      "+--------------------+--------------+\n",
      "only showing top 20 rows\n",
      "\n"
     ]
    }
   ],
   "source": [
    "#criando a tabela de pokemon egg group 1 e egg group 2\n",
    "pokemon_egg_group1 = df.select('Pokemon', 'Egg Group 1').withColumnRenamed('Egg Group 1', 'Egg_Group_1')\n",
    "pokemon_egg_group2 = df.select('Pokemon', 'Egg Group 2').withColumnRenamed('Egg Group 2', 'Egg_Group_2')\n",
    "\n",
    "pokemon_egg_group1 = pokemon_egg_group1.join(egg_group, pokemon_egg_group1.Egg_Group_1 == egg_group.Egg_Group, 'inner').select('Pokemon', 'ID').withColumnRenamed('ID', 'Egg Group 1 ID')\n",
    "pokemon_egg_group2 = pokemon_egg_group2.join(egg_group, pokemon_egg_group2.Egg_Group_2 == egg_group.Egg_Group, 'inner').select('Pokemon', 'ID').withColumnRenamed('ID', 'Egg Group 2 ID')\n",
    "\n",
    "pokemon_egg_group1.show()\n",
    "pokemon_egg_group2.show()"
   ]
  },
  {
   "cell_type": "code",
   "execution_count": 216,
   "id": "d10b04b1",
   "metadata": {
    "scrolled": false
   },
   "outputs": [
    {
     "name": "stdout",
     "output_type": "stream",
     "text": [
      "+--------------------+----------+\n",
      "|             Pokemon|Ability ID|\n",
      "+--------------------+----------+\n",
      "|           Porygon-Z|         0|\n",
      "|Lucario(Mega Luca...|         0|\n",
      "|Beedrill(Mega Bee...|         0|\n",
      "|Salamence(Mega Sa...|         1|\n",
      "| Pinsir(Mega Pinsir)|         1|\n",
      "|            Drifblim|         2|\n",
      "|            Drifloon|         2|\n",
      "|            Rayquaza|         3|\n",
      "|               Klawf|         6|\n",
      "|             Flittle|         7|\n",
      "|           Toxicroak|         7|\n",
      "|            Croagunk|         7|\n",
      "|Wormadam(Trash Cl...|         7|\n",
      "|Wormadam(Sandy Cl...|         7|\n",
      "|            Wormadam|         7|\n",
      "|  Oinkologne(Female)|        10|\n",
      "|             Lechonk|        10|\n",
      "|Calyrex(Shadow Ri...|        11|\n",
      "|  Calyrex(Ice Rider)|        11|\n",
      "|  Zygarde(10% Forme)|        12|\n",
      "+--------------------+----------+\n",
      "only showing top 20 rows\n",
      "\n",
      "+--------------------+----------+\n",
      "|             Pokemon|Ability ID|\n",
      "+--------------------+----------+\n",
      "| Basculegion(Female)|         0|\n",
      "|         Basculegion|         0|\n",
      "|Basculin(White-St...|         0|\n",
      "|Basculin(Blue-Str...|         0|\n",
      "|            Basculin|         0|\n",
      "|               Eevee|         0|\n",
      "|            Skuntank|         2|\n",
      "|              Stunky|         2|\n",
      "|  Tauros(Aqua Breed)|         5|\n",
      "| Tauros(Blaze Breed)|         5|\n",
      "|Tauros(Combat Breed)|         5|\n",
      "|              Tauros|         5|\n",
      "|            Primeape|         5|\n",
      "|              Mankey|         5|\n",
      "|           Hatterene|         7|\n",
      "|             Hattrem|         7|\n",
      "|             Hatenna|         7|\n",
      "|            Whiscash|         7|\n",
      "|            Barboach|         7|\n",
      "|            Trapinch|         8|\n",
      "+--------------------+----------+\n",
      "only showing top 20 rows\n",
      "\n",
      "+--------------------+----------+\n",
      "|             Pokemon|Ability ID|\n",
      "+--------------------+----------+\n",
      "|            Gumshoos|         0|\n",
      "|             Yungoos|         0|\n",
      "|            Dragalge|         0|\n",
      "|              Skrelp|         0|\n",
      "|              Feebas|         0|\n",
      "|           Crawdaunt|         0|\n",
      "|            Corphish|         0|\n",
      "|            Garbodor|         2|\n",
      "|            Trubbish|         2|\n",
      "|Electrode(Hisuian...|         2|\n",
      "|           Electrode|         2|\n",
      "|Voltorb(Hisuian V...|         2|\n",
      "|             Voltorb|         2|\n",
      "|            Beheeyem|         4|\n",
      "|              Elgyem|         4|\n",
      "|             Watchog|         4|\n",
      "|              Patrat|         4|\n",
      "|           Porygon-Z|         4|\n",
      "|           Magnezone|         4|\n",
      "|            Porygon2|         4|\n",
      "+--------------------+----------+\n",
      "only showing top 20 rows\n",
      "\n"
     ]
    }
   ],
   "source": [
    "#criando a tabela de pokemon first ability, second ability e hidden ability\n",
    "pokemon_first_ability = df.select('Pokemon', 'First Ability').withColumnRenamed('First Ability', 'First_Ability')\n",
    "pokemon_second_ability = df.select('Pokemon', 'Second Ability').withColumnRenamed('Second Ability', 'Second_Ability')\n",
    "pokemon_hidden_ability = df.select('Pokemon', 'Hidden Ability').withColumnRenamed('Hidden Ability', 'Hidden_Ability')\n",
    "\n",
    "pokemon_first_ability = pokemon_first_ability.join(ability, pokemon_first_ability.First_Ability == ability.Ability, 'inner').select('Pokemon', 'ID').withColumnRenamed('ID', 'Ability ID')\n",
    "pokemon_second_ability = pokemon_second_ability.join(ability, pokemon_second_ability.Second_Ability == ability.Ability, 'inner').select('Pokemon', 'ID').withColumnRenamed('ID', 'Ability ID')\n",
    "pokemon_hidden_ability = pokemon_hidden_ability.join(ability, pokemon_hidden_ability.Hidden_Ability == ability.Ability, 'inner').select('Pokemon', 'ID').withColumnRenamed('ID', 'Ability ID')\n",
    "\n",
    "pokemon_first_ability.show()\n",
    "pokemon_second_ability.show()\n",
    "pokemon_hidden_ability.show()"
   ]
  },
  {
   "cell_type": "code",
   "execution_count": 219,
   "id": "ba8d6e2e",
   "metadata": {},
   "outputs": [
    {
     "name": "stdout",
     "output_type": "stream",
     "text": [
      "+--------------------+-------+\n",
      "|             Pokemon|Type ID|\n",
      "+--------------------+-------+\n",
      "|           Bulbasaur|      9|\n",
      "|             Ivysaur|      9|\n",
      "|            Venusaur|      9|\n",
      "|Venusaur(Mega Ven...|      9|\n",
      "|          Charmander|      6|\n",
      "|          Charmeleon|      6|\n",
      "|           Charizard|      6|\n",
      "|Charizard(Mega Ch...|      6|\n",
      "|Charizard(Mega Ch...|      6|\n",
      "|            Squirtle|     17|\n",
      "|           Wartortle|     17|\n",
      "|           Blastoise|     17|\n",
      "|Blastoise(Mega Bl...|     17|\n",
      "|            Caterpie|      0|\n",
      "|             Metapod|      0|\n",
      "|          Butterfree|      0|\n",
      "|              Weedle|      0|\n",
      "|              Kakuna|      0|\n",
      "|            Beedrill|      0|\n",
      "|Beedrill(Mega Bee...|      0|\n",
      "+--------------------+-------+\n",
      "only showing top 20 rows\n",
      "\n",
      "+--------------------+-------+\n",
      "|             Pokemon|Type ID|\n",
      "+--------------------+-------+\n",
      "|           Bulbasaur|     13|\n",
      "|             Ivysaur|     13|\n",
      "|            Venusaur|     13|\n",
      "|Venusaur(Mega Ven...|     13|\n",
      "|           Charizard|      7|\n",
      "|Charizard(Mega Ch...|      2|\n",
      "|Charizard(Mega Ch...|      7|\n",
      "|          Butterfree|      7|\n",
      "|              Weedle|     13|\n",
      "|              Kakuna|     13|\n",
      "|            Beedrill|     13|\n",
      "|Beedrill(Mega Bee...|     13|\n",
      "|              Pidgey|      7|\n",
      "|           Pidgeotto|      7|\n",
      "|             Pidgeot|      7|\n",
      "|Pidgeot(Mega Pidg...|      7|\n",
      "|Rattata(Alolan Ra...|     12|\n",
      "|Raticate(Alolan R...|     12|\n",
      "|             Spearow|      7|\n",
      "|              Fearow|      7|\n",
      "+--------------------+-------+\n",
      "only showing top 20 rows\n",
      "\n"
     ]
    }
   ],
   "source": [
    "#criando a tabela de pokemon type\n",
    "pokemon_first_type = df.select('Pokemon', 'First Type').withColumnRenamed('First Type', 'First_Type')\n",
    "pokemon_second_type = df.select('Pokemon', 'Second Type').withColumnRenamed('Second Type', 'Second_Type')\n",
    "\n",
    "pokemon_first_type = pokemon_first_type.join(type_pokemon, pokemon_first_type.First_Type == type_pokemon.Type, 'inner').select('Pokemon', 'ID').withColumnRenamed('ID', 'Type ID')\n",
    "pokemon_second_type = pokemon_second_type.join(type_pokemon, pokemon_second_type.Second_Type == type_pokemon.Type, 'inner').select('Pokemon', 'ID').withColumnRenamed('ID', 'Type ID')\n",
    "\n",
    "pokemon_first_type.show()\n",
    "pokemon_second_type.show()"
   ]
  },
  {
   "cell_type": "code",
   "execution_count": 263,
   "id": "910af706",
   "metadata": {},
   "outputs": [
    {
     "name": "stdout",
     "output_type": "stream",
     "text": [
      "+--------------------+-----------+\n",
      "|             Pokemon|Category ID|\n",
      "+--------------------+-----------+\n",
      "|            Articuno|          0|\n",
      "|Articuno(Galarian...|          0|\n",
      "|              Zapdos|          0|\n",
      "|Zapdos(Galarian Z...|          0|\n",
      "|             Moltres|          0|\n",
      "|Moltres(Galarian ...|          0|\n",
      "|              Raikou|          0|\n",
      "|               Entei|          0|\n",
      "|             Suicune|          0|\n",
      "|            Regirock|          0|\n",
      "|              Regice|          0|\n",
      "|           Registeel|          0|\n",
      "|              Latias|          0|\n",
      "| Latias(Mega Latias)|          0|\n",
      "|              Latios|          0|\n",
      "| Latios(Mega Latios)|          0|\n",
      "|                Uxie|          0|\n",
      "|             Mesprit|          0|\n",
      "|               Azelf|          0|\n",
      "|             Heatran|          0|\n",
      "+--------------------+-----------+\n",
      "only showing top 20 rows\n",
      "\n"
     ]
    }
   ],
   "source": [
    "#criando a tabela de pokemon category\n",
    "pokemon_category_sub = df.select('Pokemon', 'Is Sub Legendary').withColumnRenamed('Is Sub Legendary', 'Is_Sub_Legendary').filter(('Is_Sub_Legendary == true'))\n",
    "pokemon_category_leg = df.select('Pokemon', 'Is Legendary').withColumnRenamed('Is Legendary', 'Is_Legendary').filter(('Is_Legendary == true'))\n",
    "pokemon_category_my = df.select('Pokemon', 'Is Mythical').withColumnRenamed('Is Mythical', 'Is_Mythical').filter(('Is_Mythical == true'))\n",
    "\n",
    "#colocando uma coluna padrão para cada categoria\n",
    "from pyspark.sql.functions import lit\n",
    "pokemon_category_sub = pokemon_category_sub.withColumn(\"Category ID\", lit(0)).select('Pokemon', 'Category ID')\n",
    "pokemon_category_leg = pokemon_category_leg.withColumn(\"Category ID\", lit(1)).select('Pokemon', 'Category ID')\n",
    "pokemon_category_my = pokemon_category_my.withColumn(\"Category ID\", lit(2)).select('Pokemon', 'Category ID')\n",
    "\n",
    "#unindo as tabelas com pokemon e category ID\n",
    "pokemon_category = pokemon_category_sub.union(pokemon_category_leg)\n",
    "pokemon_category = pokemon_category.union(pokemon_category_my)\n",
    "\n",
    "pokemon_category.show()"
   ]
  },
  {
   "cell_type": "code",
   "execution_count": 264,
   "id": "6775fed3",
   "metadata": {},
   "outputs": [
    {
     "name": "stdout",
     "output_type": "stream",
     "text": [
      "+--------------------+\n",
      "|             Pokemon|\n",
      "+--------------------+\n",
      "|Venusaur(Mega Ven...|\n",
      "|Charizard(Mega Ch...|\n",
      "|Charizard(Mega Ch...|\n",
      "|Blastoise(Mega Bl...|\n",
      "|Beedrill(Mega Bee...|\n",
      "|Pidgeot(Mega Pidg...|\n",
      "|Alakazam(Mega Ala...|\n",
      "|Slowbro(Mega Slow...|\n",
      "| Gengar(Mega Gengar)|\n",
      "|Kangaskhan(Mega K...|\n",
      "| Pinsir(Mega Pinsir)|\n",
      "|Gyarados(Mega Gya...|\n",
      "|Aerodactyl(Mega A...|\n",
      "|Mewtwo(Mega Mewtw...|\n",
      "|Mewtwo(Mega Mewtw...|\n",
      "|Ampharos(Mega Amp...|\n",
      "|Steelix(Mega Stee...|\n",
      "| Scizor(Mega Scizor)|\n",
      "|Heracross(Mega He...|\n",
      "|Houndoom(Mega Hou...|\n",
      "+--------------------+\n",
      "only showing top 20 rows\n",
      "\n"
     ]
    }
   ],
   "source": [
    "#criando a tabela de pokemon mega\n",
    "pokemon_mega = df.select('Pokemon').filter(('Mega == True'))\n",
    "\n",
    "pokemon_mega.show()"
   ]
  },
  {
   "cell_type": "code",
   "execution_count": 266,
   "id": "f2a604a5",
   "metadata": {},
   "outputs": [
    {
     "name": "stdout",
     "output_type": "stream",
     "text": [
      "+-------------------+---+\n",
      "|            Species| ID|\n",
      "+-------------------+---+\n",
      "|  Long Nose Pokémon|  0|\n",
      "| Cat Ferret Pokémon|  1|\n",
      "| Artificial Pokémon|  2|\n",
      "|  Moonlight Pokémon|  3|\n",
      "|    Firefly Pokémon|  4|\n",
      "|     Family Pokémon|  5|\n",
      "|      Olive Pokémon|  6|\n",
      "|       Bulb Pokémon|  7|\n",
      "|    Balloon Pokémon|  8|\n",
      "|   Sleeping Pokémon|  9|\n",
      "|    Victory Pokémon| 10|\n",
      "|  Centipede Pokémon| 11|\n",
      "|   Shedding Pokémon| 12|\n",
      "|    Glowing Pokémon| 13|\n",
      "|Frigatebird Pokémon| 14|\n",
      "|      Frill Pokémon| 15|\n",
      "|     Flower Pokémon| 16|\n",
      "|    Licking Pokémon| 17|\n",
      "|     Symbol Pokémon| 18|\n",
      "|    Whisper Pokémon| 19|\n",
      "+-------------------+---+\n",
      "only showing top 20 rows\n",
      "\n"
     ]
    }
   ],
   "source": [
    "#separando species\n",
    "species = df.select('Species').distinct()\n",
    "\n",
    "#criando uma coluna para ID das species\n",
    "species = species.withColumn(\"ID\", monotonically_increasing_id())\n",
    "\n",
    "species.show()"
   ]
  },
  {
   "cell_type": "code",
   "execution_count": 273,
   "id": "e7dca145",
   "metadata": {
    "scrolled": true
   },
   "outputs": [
    {
     "name": "stdout",
     "output_type": "stream",
     "text": [
      "+------------+---+\n",
      "|  Generation| ID|\n",
      "+------------+---+\n",
      "|Generation 9|  0|\n",
      "|Generation 8|  1|\n",
      "|Generation 5|  2|\n",
      "|Generation 1|  3|\n",
      "|Generation 3|  4|\n",
      "|Generation 2|  5|\n",
      "|Generation 4|  6|\n",
      "|Generation 7|  7|\n",
      "|Generation 6|  8|\n",
      "+------------+---+\n",
      "\n"
     ]
    }
   ],
   "source": [
    "#separando generation\n",
    "generation = df.select('Generation').distinct()\n",
    "\n",
    "#criando uma coluna para ID das generations\n",
    "generation = generation.withColumn(\"ID\", monotonically_increasing_id())\n",
    "\n",
    "generation.show()"
   ]
  },
  {
   "cell_type": "code",
   "execution_count": 270,
   "id": "433a3ba7",
   "metadata": {},
   "outputs": [
    {
     "name": "stdout",
     "output_type": "stream",
     "text": [
      "+--------------------+---------+\n",
      "|             Pokemon|Specie ID|\n",
      "+--------------------+---------+\n",
      "|           Bulbasaur|      257|\n",
      "|             Ivysaur|      257|\n",
      "|            Venusaur|      257|\n",
      "|Venusaur(Mega Ven...|      257|\n",
      "|          Charmander|       96|\n",
      "|          Charmeleon|      231|\n",
      "|           Charizard|      231|\n",
      "|Charizard(Mega Ch...|      231|\n",
      "|Charizard(Mega Ch...|      231|\n",
      "|            Squirtle|       72|\n",
      "|           Wartortle|      551|\n",
      "|           Blastoise|      232|\n",
      "|Blastoise(Mega Bl...|      232|\n",
      "|            Caterpie|      589|\n",
      "|             Metapod|       62|\n",
      "|          Butterfree|      597|\n",
      "|              Weedle|       95|\n",
      "|              Kakuna|       62|\n",
      "|            Beedrill|      303|\n",
      "|Beedrill(Mega Bee...|      303|\n",
      "+--------------------+---------+\n",
      "only showing top 20 rows\n",
      "\n"
     ]
    }
   ],
   "source": [
    "#criando a tabela de pokemon species\n",
    "pokemon_species = df.select('Pokemon', 'Species')\n",
    "\n",
    "pokemon_species = pokemon_species.join(species, pokemon_species.Species == species.Species, 'inner').select('Pokemon', 'ID').withColumnRenamed('ID', 'Specie ID')\n",
    "\n",
    "pokemon_species.show()"
   ]
  },
  {
   "cell_type": "code",
   "execution_count": 271,
   "id": "261cf450",
   "metadata": {},
   "outputs": [
    {
     "name": "stdout",
     "output_type": "stream",
     "text": [
      "+--------------------+-------------+\n",
      "|             Pokemon|Generation ID|\n",
      "+--------------------+-------------+\n",
      "|           Bulbasaur|            3|\n",
      "|             Ivysaur|            3|\n",
      "|            Venusaur|            3|\n",
      "|Venusaur(Mega Ven...|            8|\n",
      "|          Charmander|            3|\n",
      "|          Charmeleon|            3|\n",
      "|           Charizard|            3|\n",
      "|Charizard(Mega Ch...|            8|\n",
      "|Charizard(Mega Ch...|            8|\n",
      "|            Squirtle|            3|\n",
      "|           Wartortle|            3|\n",
      "|           Blastoise|            3|\n",
      "|Blastoise(Mega Bl...|            8|\n",
      "|            Caterpie|            3|\n",
      "|             Metapod|            3|\n",
      "|          Butterfree|            3|\n",
      "|              Weedle|            3|\n",
      "|              Kakuna|            3|\n",
      "|            Beedrill|            3|\n",
      "|Beedrill(Mega Bee...|            8|\n",
      "+--------------------+-------------+\n",
      "only showing top 20 rows\n",
      "\n"
     ]
    }
   ],
   "source": [
    "#criando a tabela de pokemon generation\n",
    "pokemon_generation = df.select('Pokemon', 'Generation')\n",
    "\n",
    "pokemon_generation = pokemon_generation.join(generation, pokemon_generation.Generation == generation.Generation, 'inner').select('Pokemon', 'ID').withColumnRenamed('ID', 'Generation ID')\n",
    "\n",
    "pokemon_generation.show()"
   ]
  },
  {
   "cell_type": "code",
   "execution_count": null,
   "id": "2d50bcef",
   "metadata": {},
   "outputs": [],
   "source": []
  }
 ],
 "metadata": {
  "kernelspec": {
   "display_name": "Python 3 (ipykernel)",
   "language": "python",
   "name": "python3"
  },
  "language_info": {
   "codemirror_mode": {
    "name": "ipython",
    "version": 3
   },
   "file_extension": ".py",
   "mimetype": "text/x-python",
   "name": "python",
   "nbconvert_exporter": "python",
   "pygments_lexer": "ipython3",
   "version": "3.9.13"
  }
 },
 "nbformat": 4,
 "nbformat_minor": 5
}
